{
 "cells": [
  {
   "cell_type": "markdown",
   "id": "d55b2fe2",
   "metadata": {},
   "source": [
    "6 railings\n",
    "24% chance of fixing railing at lvl 1 craft, scaling to 59% at 99 craft\n",
    "when you fail fixing a railing, equally likely:\n",
    "- 2 damage\n",
    "- 1 damage\n",
    "- craft lvl -1\n",
    "- str lvl -1\n",
    "ie 50% chance to take damage, if you dont take damage, try again. \n",
    "\n",
    "for one account, probability of success?\n",
    "simulate 100million accounts "
   ]
  },
  {
   "cell_type": "markdown",
   "id": "5c545917",
   "metadata": {},
   "source": [
    "for each rail there is p = 1- [summation (n = 1, inf, (0.38)^n)] probability of success. probability of success in all 6 rails is p^6 ~ 1/297 chance."
   ]
  },
  {
   "cell_type": "markdown",
   "id": "048833db",
   "metadata": {},
   "source": [
    "video problem [link](https://youtu.be/baF8tBQAX-s?t=331)"
   ]
  }
 ],
 "metadata": {
  "kernelspec": {
   "display_name": "Python 3 (ipykernel)",
   "language": "python",
   "name": "python3"
  },
  "language_info": {
   "codemirror_mode": {
    "name": "ipython",
    "version": 3
   },
   "file_extension": ".py",
   "mimetype": "text/x-python",
   "name": "python",
   "nbconvert_exporter": "python",
   "pygments_lexer": "ipython3",
   "version": "3.9.16"
  }
 },
 "nbformat": 4,
 "nbformat_minor": 5
}
